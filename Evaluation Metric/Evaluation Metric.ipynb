{
  "nbformat": 4,
  "nbformat_minor": 0,
  "metadata": {
    "colab": {
      "name": "Minor_Project.ipynb",
      "provenance": [],
      "collapsed_sections": []
    },
    "kernelspec": {
      "name": "python3",
      "display_name": "Python 3"
    },
    "language_info": {
      "name": "python"
    },
    "accelerator": "GPU"
  },
  "cells": [
    {
      "cell_type": "markdown",
      "metadata": {
        "id": "UqIuSAH98zoa"
      },
      "source": [
        "#####**PSNR**"
      ]
    },
    {
      "cell_type": "code",
      "metadata": {
        "colab": {
          "base_uri": "https://localhost:8080/"
        },
        "id": "VUJj2_tF8ywv",
        "outputId": "0851c7d5-1106-4767-a0c6-65e2d7527bda"
      },
      "source": [
        "import numpy \n",
        "import math\n",
        "import cv2\n",
        "original = cv2.imread(\"/content/drive/MyDrive/Evaluation_Metric/secret7.png\")\n",
        "contrast = cv2.imread(\"/content/drive/MyDrive/Evaluation_Metric/decrypted7.png\")\n",
        "def psnr(img1, img2):\n",
        "    mse = numpy.mean( (img1 - img2) ** 2 )\n",
        "    mse=mse/2\n",
        "    if mse == 0:\n",
        "        return 100\n",
        "    PIXEL_MAX = 255.0\n",
        "    return 20 * math.log10(PIXEL_MAX / math.sqrt(mse))\n",
        "    \n",
        "d=psnr(original,contrast)\n",
        "print(\"PSNR: \", d)\n",
        "\n",
        "loss=(48-d)*100/48\n",
        "print(\"PSNR Loss=\",loss)"
      ],
      "execution_count": null,
      "outputs": [
        {
          "output_type": "stream",
          "text": [
            "PSNR:  41.78709625740858\n",
            "PSNR Loss= 12.943549463732131\n"
          ],
          "name": "stdout"
        }
      ]
    },
    {
      "cell_type": "markdown",
      "metadata": {
        "id": "wj0JloaQ8i2o"
      },
      "source": [
        "#####**SSIM**"
      ]
    },
    {
      "cell_type": "code",
      "metadata": {
        "colab": {
          "base_uri": "https://localhost:8080/"
        },
        "id": "IaOVEXoW7CNP",
        "outputId": "ed54f4e1-7143-4dbc-e2e2-e7a4986d0668"
      },
      "source": [
        "from skimage.measure import compare_ssim\n",
        "import argparse\n",
        "import imutils\n",
        "import cv2\n",
        "# 3. Load the two input images\n",
        "imageA = cv2.imread(\"/content/drive/MyDrive/Evaluation_Metric/secret7.png\")\n",
        "imageB = cv2.imread(\"/content/drive/MyDrive/Evaluation_Metric/decrypted7.png\")\n",
        "\n",
        "# 4. Convert the images to grayscale\n",
        "grayA = cv2.cvtColor(imageA, cv2.COLOR_BGR2GRAY)\n",
        "grayB = cv2.cvtColor(imageB, cv2.COLOR_BGR2GRAY)\n",
        "\n",
        "# 5. Compute the Structural Similarity Index (SSIM) between the two\n",
        "#    images, ensuring that the difference image is returned\n",
        "(score, diff) = compare_ssim(grayA, grayB, full=True)\n",
        "diff = (diff * 255).astype(\"uint8\")\n",
        "\n",
        "# 6. You can print only the score if you want\n",
        "print(\"SSIM: {}\".format(score))"
      ],
      "execution_count": null,
      "outputs": [
        {
          "output_type": "stream",
          "text": [
            "SSIM: 0.9579188124837831\n"
          ],
          "name": "stdout"
        },
        {
          "output_type": "stream",
          "text": [
            "/usr/local/lib/python3.7/dist-packages/ipykernel_launcher.py:15: UserWarning: DEPRECATED: skimage.measure.compare_ssim has been moved to skimage.metrics.structural_similarity. It will be removed from skimage.measure in version 0.18.\n",
            "  from ipykernel import kernelapp as app\n"
          ],
          "name": "stderr"
        }
      ]
    },
    {
      "cell_type": "markdown",
      "metadata": {
        "id": "T3eHibQAA2XB"
      },
      "source": [
        "##### **HISTOGRAM**"
      ]
    },
    {
      "cell_type": "code",
      "metadata": {
        "colab": {
          "base_uri": "https://localhost:8080/",
          "height": 294
        },
        "id": "85QTkJyRA2iX",
        "outputId": "816b54b8-4dde-45bb-ec63-396c190ee25c"
      },
      "source": [
        "import cv2\n",
        "import numpy as np\n",
        "from matplotlib import pyplot as plt\n",
        "\n",
        "img1 = cv2.imread('/content/drive/MyDrive/Evaluation_Metric/secret7.png', -1)\n",
        "img2 = cv2.imread('/content/drive/MyDrive/Evaluation_Metric/decrypted7.png', -1)\n",
        "fig, ax = plt.subplots()\n",
        "histr = cv2.calcHist([img1],[2],None,[256],[0,256])\n",
        "histr1 = cv2.calcHist([img2],[2],None,[256],[0,256])\n",
        "plt.plot(histr,color = 'b') \n",
        "plt.plot(histr1,color = 'r')\n",
        "plt.xlim([0,256])\n",
        "plt.ylim([0,1500])\n",
        "ax.legend(['Cover Image', 'Stego Image'], loc='upper left')    \n",
        "plt.title('Pixel Difference Histogram of Cover and Stego image ')\n",
        "plt.xlabel('Pixel Difference between every pair of two consecutive pixels')\n",
        "plt.ylabel('Number of occurence')\n",
        "metric_val = cv2.compareHist(histr, histr1, cv2.HISTCMP_CORREL)\n",
        "plt.show()"
      ],
      "execution_count": null,
      "outputs": [
        {
          "output_type": "display_data",
          "data": {
            "image/png": "[encoded data removed]",
            "text/plain": [
              "<Figure size 432x288 with 1 Axes>"
            ]
          },
          "metadata": {
            "tags": [],
            "needs_background": "light"
          }
        }
      ]
    },
    {
      "cell_type": "markdown",
      "metadata": {
        "id": "VauezXyA9NAI"
      },
      "source": [
        "##### **CORELATION**"
      ]
    },
    {
      "cell_type": "code",
      "metadata": {
        "colab": {
          "base_uri": "https://localhost:8080/"
        },
        "id": "8CR3vjvm9NPM",
        "outputId": "1b12e47c-01dc-4190-ab30-56c2d8278df3"
      },
      "source": [
        "import cv2\n",
        "img1 = cv2.imread('/content/drive/MyDrive/Evaluation_Metric/cover7.png')\n",
        "img2 = cv2.imread('/content/drive/MyDrive/Evaluation_Metric/stego7.png')\n",
        "\n",
        "# Convert it to HSV\n",
        "img1_hsv = cv2.cvtColor(img1, cv2.COLOR_BGR2HSV)\n",
        "img2_hsv = cv2.cvtColor(img2, cv2.COLOR_BGR2HSV)\n",
        " \n",
        "# Calculate the histogram and normalize it\n",
        "hist_img1 = cv2.calcHist([img1_hsv], [0,1], None, [180,256], [0,180,0,256])\n",
        "cv2.normalize(hist_img1, hist_img1, alpha=0, beta=1, norm_type=cv2.NORM_MINMAX);\n",
        "hist_img2 = cv2.calcHist([img2_hsv], [0,1], None, [180,256], [0,180,0,256])\n",
        "cv2.normalize(hist_img2, hist_img2, alpha=0, beta=1, norm_type=cv2.NORM_MINMAX);\n",
        " \n",
        "# find the metric value\n",
        "metric_val = cv2.compareHist(hist_img1, hist_img2, cv2.HISTCMP_CORREL )\n",
        "\n",
        "\n",
        "print(metric_val)"
      ],
      "execution_count": null,
      "outputs": [
        {
          "output_type": "stream",
          "text": [
            "0.9346523131797626\n"
          ],
          "name": "stdout"
        }
      ]
    },
    {
      "cell_type": "markdown",
      "metadata": {
        "id": "3_qiBR0JAsHu"
      },
      "source": [
        "##### **INTERSECTION**"
      ]
    },
    {
      "cell_type": "code",
      "metadata": {
        "colab": {
          "base_uri": "https://localhost:8080/"
        },
        "id": "s8oCSegR9ZJ6",
        "outputId": "c330e5f0-14fc-4cde-e3c7-f3c537c38cce"
      },
      "source": [
        "import cv2\n",
        "img1 = cv2.imread('/content/drive/MyDrive/Evaluation_Metric/secret7.png')\n",
        "img2 = cv2.imread('/content/drive/MyDrive/Evaluation_Metric/decrypted7.png')\n",
        "\n",
        "# Convert it to HSV\n",
        "img1_hsv = cv2.cvtColor(img1, cv2.COLOR_BGR2HSV)\n",
        "img2_hsv = cv2.cvtColor(img2, cv2.COLOR_BGR2HSV)\n",
        " \n",
        "# Calculate the histogram and normalize it\n",
        "hist_img1 = cv2.calcHist([img1_hsv], [0,1], None, [180,256], [0,180,0,256])\n",
        "cv2.normalize(hist_img1, hist_img1, alpha=0, beta=1, norm_type=cv2.NORM_MINMAX);\n",
        "hist_img2 = cv2.calcHist([img2_hsv], [0,1], None, [180,256], [0,180,0,256])\n",
        "cv2.normalize(hist_img2, hist_img2, alpha=0, beta=1, norm_type=cv2.NORM_MINMAX);\n",
        " \n",
        "# find the metric value\n",
        "metric_val = cv2.compareHist(hist_img1, hist_img2, cv2.HISTCMP_INTERSECT )\n",
        "\n",
        "\n",
        "print(metric_val)"
      ],
      "execution_count": null,
      "outputs": [
        {
          "output_type": "stream",
          "text": [
            "0.9999999403953552\n"
          ],
          "name": "stdout"
        }
      ]
    },
    {
      "cell_type": "markdown",
      "metadata": {
        "id": "pWMX9hp48hh9"
      },
      "source": [
        ""
      ]
    }
  ]
}